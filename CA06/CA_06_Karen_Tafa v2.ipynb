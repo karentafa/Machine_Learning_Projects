{
  "nbformat": 4,
  "nbformat_minor": 0,
  "metadata": {
    "colab": {
      "name": "CA 06 Karen Tafa.ipynb",
      "provenance": [],
      "collapsed_sections": []
    },
    "kernelspec": {
      "name": "python3",
      "display_name": "Python 3"
    },
    "language_info": {
      "name": "python"
    }
  },
  "cells": [
    {
      "cell_type": "code",
      "metadata": {
        "id": "mJwEtbdPGc27"
      },
      "source": [
        "import pandas as pd\n",
        "import numpy as np\n",
        "import sklearn.metrics\n",
        "from sklearn.neighbors import NearestNeighbors\n"
      ],
      "execution_count": 2,
      "outputs": []
    },
    {
      "cell_type": "code",
      "metadata": {
        "id": "NSbqxtkgGktL"
      },
      "source": [
        "#get data\n",
        "\n",
        "df = pd.read_csv('https://github.com/ArinB/CA05-kNN/raw/master/movies_recommendation_data.csv')"
      ],
      "execution_count": 3,
      "outputs": []
    },
    {
      "cell_type": "code",
      "metadata": {
        "colab": {
          "base_uri": "https://localhost:8080/"
        },
        "id": "d_drxXaUGvVN",
        "outputId": "731f0f79-bdce-4448-fb51-d752c36d2525"
      },
      "source": [
        "df.info() #understanding the dataset"
      ],
      "execution_count": 4,
      "outputs": [
        {
          "output_type": "stream",
          "text": [
            "<class 'pandas.core.frame.DataFrame'>\n",
            "RangeIndex: 30 entries, 0 to 29\n",
            "Data columns (total 11 columns):\n",
            " #   Column       Non-Null Count  Dtype  \n",
            "---  ------       --------------  -----  \n",
            " 0   Movie ID     30 non-null     int64  \n",
            " 1   Movie Name   30 non-null     object \n",
            " 2   IMDB Rating  30 non-null     float64\n",
            " 3   Biography    30 non-null     int64  \n",
            " 4   Drama        30 non-null     int64  \n",
            " 5   Thriller     30 non-null     int64  \n",
            " 6   Comedy       30 non-null     int64  \n",
            " 7   Crime        30 non-null     int64  \n",
            " 8   Mystery      30 non-null     int64  \n",
            " 9   History      30 non-null     int64  \n",
            " 10  Label        30 non-null     int64  \n",
            "dtypes: float64(1), int64(9), object(1)\n",
            "memory usage: 2.7+ KB\n"
          ],
          "name": "stdout"
        }
      ]
    },
    {
      "cell_type": "code",
      "metadata": {
        "colab": {
          "base_uri": "https://localhost:8080/"
        },
        "id": "OQH17CB4HzsD",
        "outputId": "504f7b2f-b8d8-4777-e58f-fe84324c4443"
      },
      "source": [
        "df.columns #check what columns we have"
      ],
      "execution_count": 5,
      "outputs": [
        {
          "output_type": "execute_result",
          "data": {
            "text/plain": [
              "Index(['Movie ID', 'Movie Name', 'IMDB Rating', 'Biography', 'Drama',\n",
              "       'Thriller', 'Comedy', 'Crime', 'Mystery', 'History', 'Label'],\n",
              "      dtype='object')"
            ]
          },
          "metadata": {
            "tags": []
          },
          "execution_count": 5
        }
      ]
    },
    {
      "cell_type": "code",
      "metadata": {
        "colab": {
          "base_uri": "https://localhost:8080/"
        },
        "id": "2m9cjToCH9IO",
        "outputId": "85d4e97f-181a-4ba1-988c-2e36c81d3fb0"
      },
      "source": [
        "df.isnull().sum() #check for null values\n"
      ],
      "execution_count": 6,
      "outputs": [
        {
          "output_type": "execute_result",
          "data": {
            "text/plain": [
              "Movie ID       0\n",
              "Movie Name     0\n",
              "IMDB Rating    0\n",
              "Biography      0\n",
              "Drama          0\n",
              "Thriller       0\n",
              "Comedy         0\n",
              "Crime          0\n",
              "Mystery        0\n",
              "History        0\n",
              "Label          0\n",
              "dtype: int64"
            ]
          },
          "metadata": {
            "tags": []
          },
          "execution_count": 6
        }
      ]
    },
    {
      "cell_type": "code",
      "metadata": {
        "id": "Hfh1vCZtILac"
      },
      "source": [
        "#getting data ready for the model\n",
        "\n",
        "#the target column\n",
        "y = df['Movie Name'] \n",
        "\n",
        "#the columns used to predict the target column(features)\n",
        "X = df.drop(['Movie Name', 'Movie ID', 'Label'], axis=1) "
      ],
      "execution_count": 7,
      "outputs": []
    },
    {
      "cell_type": "code",
      "metadata": {
        "id": "8s1yDY4tJTQU"
      },
      "source": [
        "\n",
        "#to see the 5 nearest movies \n",
        "neigh = NearestNeighbors(n_neighbors = 5, algorithm = 'brute', metric = 'minkowski', p=2)\n",
        "neigh.fit(X, y) #model fitting\n",
        "data_input = {'IMDB Rating': '7.2', 'Biography' : '1', 'Drama' : '1', 'Thriller' : '0', 'Comedy' : '0', 'Crime' : '0', 'Mystery' : '0', 'History' : '1'} #the movie we are using to try find others similar to it\n",
        "data_input_df= pd.DataFrame([data_input]) \n"
      ],
      "execution_count": 8,
      "outputs": []
    },
    {
      "cell_type": "code",
      "metadata": {
        "colab": {
          "base_uri": "https://localhost:8080/"
        },
        "id": "GLD_wJbUNzx4",
        "outputId": "66ac2f7d-f330-4daf-8b4e-c67d6ec8b981"
      },
      "source": [
        "#prediction time\n",
        "final_pred = (neigh.kneighbors(data_input_df, return_distance = False)) #make prediction using new dataframe\n",
        "final_pred #return nearest neighbors"
      ],
      "execution_count": 9,
      "outputs": [
        {
          "output_type": "execute_result",
          "data": {
            "text/plain": [
              "array([[28, 27, 29, 16,  9]])"
            ]
          },
          "metadata": {
            "tags": []
          },
          "execution_count": 9
        }
      ]
    },
    {
      "cell_type": "code",
      "metadata": {
        "colab": {
          "base_uri": "https://localhost:8080/"
        },
        "id": "R80xhJkVOsYD",
        "outputId": "1ed67efa-2d86-4045-ff8e-b914afa5a8d3"
      },
      "source": [
        "#create loop to see movies closest to the movie inputted\n",
        "for movie in final_pred:\n",
        "   print(f\"Movies related to yours:\\n\\n{y[movie]}\")"
      ],
      "execution_count": 10,
      "outputs": [
        {
          "output_type": "stream",
          "text": [
            "Movies related to yours:\n",
            "\n",
            "28    12 Years a Slave\n",
            "27       Hacksaw Ridge\n",
            "29      Queen of Katwe\n",
            "16      The Wind Rises\n",
            "9       The Karate Kid\n",
            "Name: Movie Name, dtype: object\n"
          ],
          "name": "stdout"
        }
      ]
    }
  ]
}