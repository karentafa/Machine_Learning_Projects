{
  "nbformat": 4,
  "nbformat_minor": 0,
  "metadata": {
    "colab": {
      "name": "CA04 - Karen Tafa.ipynb",
      "provenance": [],
      "collapsed_sections": []
    },
    "kernelspec": {
      "name": "python3",
      "display_name": "Python 3"
    }
  },
  "cells": [
    {
      "cell_type": "markdown",
      "metadata": {
        "id": "S8UOCl76mf2b"
      },
      "source": [
        "# **Building a Random Forest Model**"
      ]
    },
    {
      "cell_type": "code",
      "metadata": {
        "id": "Fv9k0AtqeSxF"
      },
      "source": [
        "#IMPORT AND MOUNT\n",
        "\n",
        "train_census = '/content/drive/MyDrive/MSBA_Assignments/CA03/train_census.csv'\n",
        "test_census = '/content/drive/MyDrive/MSBA_Assignments/CA03/test_census.csv'\n",
        "census_data = '/content/drive/MyDrive/MSBA_Assignments/CA03/census_data.csv'\n",
        "\n",
        "\n",
        "import numpy as np\n",
        "import pandas as pd\n",
        "import seaborn as sns\n",
        "from sklearn.tree import DecisionTreeClassifier\n",
        "from sklearn.preprocessing import LabelEncoder\n",
        "import matplotlib.pyplot as plt\n",
        "\n"
      ],
      "execution_count": 5,
      "outputs": []
    },
    {
      "cell_type": "code",
      "metadata": {
        "colab": {
          "base_uri": "https://localhost:8080/",
          "height": 275
        },
        "id": "AV2tMP2jeiB-",
        "outputId": "f2276759-2b0b-4332-c5ef-3f69537699df"
      },
      "source": [
        "#convert to dataframes\n",
        "\n",
        "traindf = pd.read_csv('/content/drive/MyDrive/MSBA_Assignments/CA03/train_census.csv')\n",
        "testdf = pd.read_csv('/content/drive/MyDrive/MSBA_Assignments/CA03/test_census.csv')\n",
        "datadf = pd.read_csv('/content/drive/MyDrive/MSBA_Assignments/CA03/census_data.csv')\n",
        "\n",
        "datadf.head()"
      ],
      "execution_count": 6,
      "outputs": [
        {
          "output_type": "execute_result",
          "data": {
            "text/html": [
              "<div>\n",
              "<style scoped>\n",
              "    .dataframe tbody tr th:only-of-type {\n",
              "        vertical-align: middle;\n",
              "    }\n",
              "\n",
              "    .dataframe tbody tr th {\n",
              "        vertical-align: top;\n",
              "    }\n",
              "\n",
              "    .dataframe thead th {\n",
              "        text-align: right;\n",
              "    }\n",
              "</style>\n",
              "<table border=\"1\" class=\"dataframe\">\n",
              "  <thead>\n",
              "    <tr style=\"text-align: right;\">\n",
              "      <th></th>\n",
              "      <th>hours_per_week_bin</th>\n",
              "      <th>occupation_bin</th>\n",
              "      <th>msr_bin</th>\n",
              "      <th>capital_gl_bin</th>\n",
              "      <th>race_sex_bin</th>\n",
              "      <th>education_num_bin</th>\n",
              "      <th>education_bin</th>\n",
              "      <th>workclass_bin</th>\n",
              "      <th>age_bin</th>\n",
              "      <th>flag</th>\n",
              "      <th>y</th>\n",
              "    </tr>\n",
              "  </thead>\n",
              "  <tbody>\n",
              "    <tr>\n",
              "      <th>0</th>\n",
              "      <td>b. 31-40</td>\n",
              "      <td>b. Mid - Low</td>\n",
              "      <td>b. Mid</td>\n",
              "      <td>c. &gt; 0</td>\n",
              "      <td>c. High</td>\n",
              "      <td>c. 13</td>\n",
              "      <td>c. Bachelors</td>\n",
              "      <td>b. income</td>\n",
              "      <td>d. 36-40 &amp; 56-60</td>\n",
              "      <td>train</td>\n",
              "      <td>0</td>\n",
              "    </tr>\n",
              "    <tr>\n",
              "      <th>1</th>\n",
              "      <td>a. 0-30</td>\n",
              "      <td>e. High</td>\n",
              "      <td>c. High</td>\n",
              "      <td>a. = 0</td>\n",
              "      <td>c. High</td>\n",
              "      <td>c. 13</td>\n",
              "      <td>c. Bachelors</td>\n",
              "      <td>b. income</td>\n",
              "      <td>e. 40-55</td>\n",
              "      <td>train</td>\n",
              "      <td>0</td>\n",
              "    </tr>\n",
              "    <tr>\n",
              "      <th>2</th>\n",
              "      <td>b. 31-40</td>\n",
              "      <td>a. Low</td>\n",
              "      <td>b. Mid</td>\n",
              "      <td>a. = 0</td>\n",
              "      <td>c. High</td>\n",
              "      <td>b. 9-12</td>\n",
              "      <td>b. Mid</td>\n",
              "      <td>b. income</td>\n",
              "      <td>d. 36-40 &amp; 56-60</td>\n",
              "      <td>train</td>\n",
              "      <td>0</td>\n",
              "    </tr>\n",
              "    <tr>\n",
              "      <th>3</th>\n",
              "      <td>b. 31-40</td>\n",
              "      <td>a. Low</td>\n",
              "      <td>c. High</td>\n",
              "      <td>a. = 0</td>\n",
              "      <td>b. Mid</td>\n",
              "      <td>a. 0-8</td>\n",
              "      <td>a. Low</td>\n",
              "      <td>b. income</td>\n",
              "      <td>e. 40-55</td>\n",
              "      <td>train</td>\n",
              "      <td>0</td>\n",
              "    </tr>\n",
              "    <tr>\n",
              "      <th>4</th>\n",
              "      <td>b. 31-40</td>\n",
              "      <td>e. High</td>\n",
              "      <td>c. High</td>\n",
              "      <td>a. = 0</td>\n",
              "      <td>a. Low</td>\n",
              "      <td>c. 13</td>\n",
              "      <td>c. Bachelors</td>\n",
              "      <td>b. income</td>\n",
              "      <td>b. 26-30 &amp; 71-100</td>\n",
              "      <td>train</td>\n",
              "      <td>0</td>\n",
              "    </tr>\n",
              "  </tbody>\n",
              "</table>\n",
              "</div>"
            ],
            "text/plain": [
              "  hours_per_week_bin occupation_bin  msr_bin  ...            age_bin   flag  y\n",
              "0           b. 31-40   b. Mid - Low   b. Mid  ...   d. 36-40 & 56-60  train  0\n",
              "1            a. 0-30        e. High  c. High  ...           e. 40-55  train  0\n",
              "2           b. 31-40         a. Low   b. Mid  ...   d. 36-40 & 56-60  train  0\n",
              "3           b. 31-40         a. Low  c. High  ...           e. 40-55  train  0\n",
              "4           b. 31-40        e. High  c. High  ...  b. 26-30 & 71-100  train  0\n",
              "\n",
              "[5 rows x 11 columns]"
            ]
          },
          "metadata": {
            "tags": []
          },
          "execution_count": 6
        }
      ]
    },
    {
      "cell_type": "code",
      "metadata": {
        "id": "Jb_rd-hmhKLE"
      },
      "source": [
        "#for training data\n",
        "inputs = traindf.drop(['workclass_bin','flag','education_num_bin','y'],axis='columns')\n",
        "y_train = traindf['y']\n"
      ],
      "execution_count": 7,
      "outputs": []
    },
    {
      "cell_type": "code",
      "metadata": {
        "id": "Nrg5oFQ2hj1T"
      },
      "source": [
        "#make data numerical \n",
        "from sklearn.preprocessing import LabelEncoder\n",
        "le_hours_per_week_bin = LabelEncoder()\n",
        "le_occupation_bin = LabelEncoder()\n",
        "le_msr_bin = LabelEncoder()\n",
        "le_capital_gl_bin = LabelEncoder()\n",
        "le_race_sex_bin = LabelEncoder()\n",
        "le_education_bin = LabelEncoder()\n",
        "le_age_bin = LabelEncoder()"
      ],
      "execution_count": 15,
      "outputs": []
    },
    {
      "cell_type": "code",
      "metadata": {
        "id": "oPe1jHjzhZC_"
      },
      "source": [
        "#for training data\n",
        "inputs['hours_per_week_bin_n'] = le_hours_per_week_bin.fit_transform(inputs['hours_per_week_bin'])\n",
        "inputs['occupation_bin_n'] = le_occupation_bin.fit_transform(inputs['occupation_bin'])\n",
        "inputs['msr_bin_n'] = le_msr_bin.fit_transform(inputs['msr_bin'])\n",
        "inputs['capital_gl_bin_n'] = le_capital_gl_bin.fit_transform(inputs['capital_gl_bin'])\n",
        "inputs['race_sex_bin_n'] = le_race_sex_bin.fit_transform(inputs['race_sex_bin'])\n",
        "inputs['age_bin_n'] = le_education_bin.fit_transform(inputs['age_bin'])\n",
        "inputs['education_bin_n'] = le_age_bin.fit_transform(inputs['education_bin'])"
      ],
      "execution_count": 16,
      "outputs": []
    },
    {
      "cell_type": "code",
      "metadata": {
        "id": "j5aOxhuxhmAT"
      },
      "source": [
        "#for training data\n",
        "x_train = inputs.drop(['hours_per_week_bin',\t'occupation_bin',\t'msr_bin',\t'capital_gl_bin'\t,'race_sex_bin'\t,\t'education_bin'\t,\t'age_bin'],axis='columns')\n"
      ],
      "execution_count": 17,
      "outputs": []
    },
    {
      "cell_type": "code",
      "metadata": {
        "id": "8e5PZefWh455"
      },
      "source": [
        "#for test data\n",
        "\n",
        "test_inputs = testdf.drop(['workclass_bin','flag','education_num_bin','y'],axis='columns')\n",
        "y_test = testdf['y']"
      ],
      "execution_count": 11,
      "outputs": []
    },
    {
      "cell_type": "code",
      "metadata": {
        "colab": {
          "base_uri": "https://localhost:8080/",
          "height": 258
        },
        "id": "57dO4cGFh9vl",
        "outputId": "5def3a85-f00b-4d96-f173-79d03137345f"
      },
      "source": [
        "#for test data\n",
        "test_inputs['hours_per_week_bin_n'] = le_hours_per_week_bin.fit_transform(test_inputs['hours_per_week_bin'])\n",
        "test_inputs['occupation_bin_n'] = le_occupation_bin.fit_transform(test_inputs['occupation_bin'])\n",
        "test_inputs['msr_bin_n'] = le_msr_bin.fit_transform(test_inputs['msr_bin'])\n",
        "test_inputs['capital_gl_bin_n'] = le_capital_gl_bin.fit_transform(test_inputs['capital_gl_bin'])\n",
        "test_inputs['race_sex_bin_n'] = le_race_sex_bin.fit_transform(test_inputs['race_sex_bin'])\n",
        "test_inputs['age_bin_n'] = le_education_bin.fit_transform(test_inputs['age_bin'])\n",
        "test_inputs['education_bin_n'] = le_age_bin.fit_transform(test_inputs['education_bin'])\n",
        "\n",
        "test_inputs.head()"
      ],
      "execution_count": 12,
      "outputs": [
        {
          "output_type": "execute_result",
          "data": {
            "text/html": [
              "<div>\n",
              "<style scoped>\n",
              "    .dataframe tbody tr th:only-of-type {\n",
              "        vertical-align: middle;\n",
              "    }\n",
              "\n",
              "    .dataframe tbody tr th {\n",
              "        vertical-align: top;\n",
              "    }\n",
              "\n",
              "    .dataframe thead th {\n",
              "        text-align: right;\n",
              "    }\n",
              "</style>\n",
              "<table border=\"1\" class=\"dataframe\">\n",
              "  <thead>\n",
              "    <tr style=\"text-align: right;\">\n",
              "      <th></th>\n",
              "      <th>hours_per_week_bin</th>\n",
              "      <th>occupation_bin</th>\n",
              "      <th>msr_bin</th>\n",
              "      <th>capital_gl_bin</th>\n",
              "      <th>race_sex_bin</th>\n",
              "      <th>education_bin</th>\n",
              "      <th>age_bin</th>\n",
              "      <th>hours_per_week_bin_n</th>\n",
              "      <th>occupation_bin_n</th>\n",
              "      <th>msr_bin_n</th>\n",
              "      <th>capital_gl_bin_n</th>\n",
              "      <th>race_sex_bin_n</th>\n",
              "      <th>age_bin_n</th>\n",
              "      <th>education_bin_n</th>\n",
              "    </tr>\n",
              "  </thead>\n",
              "  <tbody>\n",
              "    <tr>\n",
              "      <th>0</th>\n",
              "      <td>b. 31-40</td>\n",
              "      <td>b. Mid - Low</td>\n",
              "      <td>a. Low</td>\n",
              "      <td>a. = 0</td>\n",
              "      <td>b. Mid</td>\n",
              "      <td>a. Low</td>\n",
              "      <td>a. 0-25</td>\n",
              "      <td>1</td>\n",
              "      <td>1</td>\n",
              "      <td>0</td>\n",
              "      <td>0</td>\n",
              "      <td>1</td>\n",
              "      <td>0</td>\n",
              "      <td>0</td>\n",
              "    </tr>\n",
              "    <tr>\n",
              "      <th>1</th>\n",
              "      <td>d. 41-50 &amp; 61-70</td>\n",
              "      <td>b. Mid - Low</td>\n",
              "      <td>c. High</td>\n",
              "      <td>a. = 0</td>\n",
              "      <td>c. High</td>\n",
              "      <td>b. Mid</td>\n",
              "      <td>d. 36-40 &amp; 56-60</td>\n",
              "      <td>3</td>\n",
              "      <td>1</td>\n",
              "      <td>2</td>\n",
              "      <td>0</td>\n",
              "      <td>2</td>\n",
              "      <td>3</td>\n",
              "      <td>1</td>\n",
              "    </tr>\n",
              "    <tr>\n",
              "      <th>2</th>\n",
              "      <td>b. 31-40</td>\n",
              "      <td>d. Mid - High</td>\n",
              "      <td>c. High</td>\n",
              "      <td>a. = 0</td>\n",
              "      <td>c. High</td>\n",
              "      <td>b. Mid</td>\n",
              "      <td>b. 26-30 &amp; 71-100</td>\n",
              "      <td>1</td>\n",
              "      <td>3</td>\n",
              "      <td>2</td>\n",
              "      <td>0</td>\n",
              "      <td>2</td>\n",
              "      <td>1</td>\n",
              "      <td>1</td>\n",
              "    </tr>\n",
              "    <tr>\n",
              "      <th>3</th>\n",
              "      <td>b. 31-40</td>\n",
              "      <td>b. Mid - Low</td>\n",
              "      <td>c. High</td>\n",
              "      <td>c. &gt; 0</td>\n",
              "      <td>b. Mid</td>\n",
              "      <td>b. Mid</td>\n",
              "      <td>e. 40-55</td>\n",
              "      <td>1</td>\n",
              "      <td>1</td>\n",
              "      <td>2</td>\n",
              "      <td>2</td>\n",
              "      <td>1</td>\n",
              "      <td>4</td>\n",
              "      <td>1</td>\n",
              "    </tr>\n",
              "    <tr>\n",
              "      <th>4</th>\n",
              "      <td>a. 0-30</td>\n",
              "      <td>b. Mid - Low</td>\n",
              "      <td>a. Low</td>\n",
              "      <td>a. = 0</td>\n",
              "      <td>b. Mid</td>\n",
              "      <td>b. Mid</td>\n",
              "      <td>a. 0-25</td>\n",
              "      <td>0</td>\n",
              "      <td>1</td>\n",
              "      <td>0</td>\n",
              "      <td>0</td>\n",
              "      <td>1</td>\n",
              "      <td>0</td>\n",
              "      <td>1</td>\n",
              "    </tr>\n",
              "  </tbody>\n",
              "</table>\n",
              "</div>"
            ],
            "text/plain": [
              "  hours_per_week_bin occupation_bin  ... age_bin_n education_bin_n\n",
              "0           b. 31-40   b. Mid - Low  ...         0               0\n",
              "1   d. 41-50 & 61-70   b. Mid - Low  ...         3               1\n",
              "2           b. 31-40  d. Mid - High  ...         1               1\n",
              "3           b. 31-40   b. Mid - Low  ...         4               1\n",
              "4            a. 0-30   b. Mid - Low  ...         0               1\n",
              "\n",
              "[5 rows x 14 columns]"
            ]
          },
          "metadata": {
            "tags": []
          },
          "execution_count": 12
        }
      ]
    },
    {
      "cell_type": "code",
      "metadata": {
        "id": "EHTuerRliGTt"
      },
      "source": [
        "#for test data\n",
        "x_test = test_inputs.drop(['hours_per_week_bin',\t'occupation_bin',\t'msr_bin',\t'capital_gl_bin'\t,'race_sex_bin'\t,\t'education_bin'\t,\t'age_bin'],axis='columns')\n"
      ],
      "execution_count": 13,
      "outputs": []
    },
    {
      "cell_type": "code",
      "metadata": {
        "colab": {
          "base_uri": "https://localhost:8080/",
          "height": 282
        },
        "id": "46eKVwm7e0LJ",
        "outputId": "85256e54-e039-466c-c1a6-01da3d4da2fb"
      },
      "source": [
        "from sklearn.ensemble import RandomForestClassifier\n",
        "\n",
        "results =[] #to add accuracy results to\n",
        "\n",
        "max_estimator_options = [50, 100,150,200,250,300,350,400,450,500]\n",
        "for trees in max_estimator_options:\n",
        "  model = RandomForestClassifier(n_estimators=trees,random_state=101)\n",
        "\n",
        "  model.fit(x_train,y_train)\n",
        "  y_pred = model.predict(x_test)\n",
        "  accuracy = np.mean(y_test == y_pred)# calculating accuracy \n",
        "  results.append(accuracy)\n",
        "#plot the results\n",
        "plt.figure(figsize=(8,4))\n",
        "pd.Series(results, max_estimator_options).plot(color=\"darkred\",marker=\"o\")"
      ],
      "execution_count": 55,
      "outputs": [
        {
          "output_type": "execute_result",
          "data": {
            "text/plain": [
              "<matplotlib.axes._subplots.AxesSubplot at 0x7fe422f54e10>"
            ]
          },
          "metadata": {
            "tags": []
          },
          "execution_count": 55
        },
        {
          "output_type": "display_data",
          "data": {
            "image/png": "[encoded data removed]",
            "text/plain": [
              "<Figure size 576x288 with 1 Axes>"
            ]
          },
          "metadata": {
            "tags": [],
            "needs_background": "light"
          }
        }
      ]
    },
    {
      "cell_type": "markdown",
      "metadata": {
        "id": "wy5keeTQlruZ"
      },
      "source": [
        "1. **Write your observations about the Classifier’s behavior with respect to the\n",
        "number of estimators**\n",
        "\n",
        "\n",
        "\n",
        "*  There seems to be more than one optimal number of estimators. it seems that that the more estimators, the better, but that only happens after 350\n",
        "\n",
        "\n",
        "2.  **Is there an optimal value of the estimator within the given range?**\n",
        "\n",
        "\n",
        "\n",
        "> yes, seems to be 450 and 500\n",
        "\n",
        "\n",
        "\n"
      ]
    },
    {
      "cell_type": "code",
      "metadata": {
        "id": "VbaoHfDHODc9"
      },
      "source": [
        ""
      ],
      "execution_count": null,
      "outputs": []
    },
    {
      "cell_type": "markdown",
      "metadata": {
        "id": "Mdna6VBtmq4R"
      },
      "source": [
        "# **Building AdaBoost**"
      ]
    },
    {
      "cell_type": "code",
      "metadata": {
        "id": "LOpquUACmx9K"
      },
      "source": [
        "from sklearn.ensemble import AdaBoostClassifier, GradientBoostingClassifier\n"
      ],
      "execution_count": 19,
      "outputs": []
    },
    {
      "cell_type": "code",
      "metadata": {
        "colab": {
          "base_uri": "https://localhost:8080/",
          "height": 282
        },
        "id": "IHGuqsdhn3eJ",
        "outputId": "841a0f47-7c95-4ddd-8810-416d57cf811a"
      },
      "source": [
        "results_ada =[] #to add accuracy results to\n",
        "\n",
        "max_estimator_options_ada = [50, 100,150,200,250,300,350,400,450,500]\n",
        "for trees in max_estimator_options_ada:\n",
        "  model_ada = AdaBoostClassifier(n_estimators=trees,random_state=101)\n",
        "  model_ada.fit(x_train,y_train)\n",
        "  y_pred_ada = model_ada.predict(x_test)\n",
        "  accuracy_ada = np.mean(y_test == y_pred_ada)\n",
        "  results_ada.append(accuracy_ada)\n",
        "#plot the results\n",
        "\n",
        "plt.figure(figsize=(8,4))\n",
        "pd.Series(results_ada, max_estimator_options_ada).plot(color=\"darkred\",marker=\"o\")"
      ],
      "execution_count": 53,
      "outputs": [
        {
          "output_type": "execute_result",
          "data": {
            "text/plain": [
              "<matplotlib.axes._subplots.AxesSubplot at 0x7fe422fef450>"
            ]
          },
          "metadata": {
            "tags": []
          },
          "execution_count": 53
        },
        {
          "output_type": "display_data",
          "data": {
            "image/png": "[encoded data removed]",
            "text/plain": [
              "<Figure size 576x288 with 1 Axes>"
            ]
          },
          "metadata": {
            "tags": [],
            "needs_background": "light"
          }
        }
      ]
    },
    {
      "cell_type": "markdown",
      "metadata": {
        "id": "uZalLmS_QCo2"
      },
      "source": [
        "1. **Write your observations about the Classifier’s behavior with respect to the\n",
        "number of estimators**\n",
        "\n",
        "\n",
        "\n",
        "*  It seems to level out after 150 which means after 150 there is no difference impact\n",
        "\n",
        "\n",
        "2.  **Is there an optimal value of the estimator within the given range?**\n",
        "\n",
        "\n",
        "\n",
        "> yes, seems to be 100\n",
        "\n",
        "\n",
        "\n"
      ]
    },
    {
      "cell_type": "markdown",
      "metadata": {
        "id": "9kjC4JFtrD3Z"
      },
      "source": [
        "# **Gradient Boost**"
      ]
    },
    {
      "cell_type": "code",
      "metadata": {
        "colab": {
          "base_uri": "https://localhost:8080/",
          "height": 282
        },
        "id": "RA63dvhbqXhw",
        "outputId": "696691c5-3b27-4ec9-d379-5595a5861f19"
      },
      "source": [
        "results_grad =[] #to add accuracy results to\n",
        "\n",
        "max_estimator_options_grad = [50, 100,150,200,250,300,350,400,450,500]\n",
        "for trees in max_estimator_options_grad:\n",
        "  model_grad = GradientBoostingClassifier(n_estimators=trees,random_state=101)\n",
        "  model_grad.fit(x_train,y_train)\n",
        "  y_pred_grad = model_grad.predict(x_test)\n",
        "  accuracy_grad = np.mean(y_test == y_pred_grad)# calculating accuracy \n",
        "  results_grad.append(accuracy_grad)\n",
        "#plot the results\n",
        "\n",
        "plt.figure(figsize=(8,4))\n",
        "pd.Series(results_grad, max_estimator_options_grad).plot(color=\"darkred\",marker=\"o\")"
      ],
      "execution_count": 21,
      "outputs": [
        {
          "output_type": "execute_result",
          "data": {
            "text/plain": [
              "<matplotlib.axes._subplots.AxesSubplot at 0x7fe4320a9d90>"
            ]
          },
          "metadata": {
            "tags": []
          },
          "execution_count": 21
        },
        {
          "output_type": "display_data",
          "data": {
            "image/png": "[encoded data removed]",
            "text/plain": [
              "<Figure size 576x288 with 1 Axes>"
            ]
          },
          "metadata": {
            "tags": [],
            "needs_background": "light"
          }
        }
      ]
    },
    {
      "cell_type": "markdown",
      "metadata": {
        "id": "A_vGcLjWQW3k"
      },
      "source": [
        "1. **Write your observations about the Classifier’s behavior with respect to the\n",
        "number of estimators**\n",
        "\n",
        "\n",
        "\n",
        "*  it seems that after 350 estimators it becomes less effective\n",
        "\n",
        "\n",
        "2.  **Is there an optimal value of the estimator within the given range?**\n",
        "\n",
        "\n",
        "\n",
        "> yes, seems to be 50 and also maybe 350,its not too clear which one is higher\n",
        "\n",
        "\n",
        "\n"
      ]
    },
    {
      "cell_type": "markdown",
      "metadata": {
        "id": "0qrYbQUSrKAR"
      },
      "source": [
        "# **XGB**"
      ]
    },
    {
      "cell_type": "code",
      "metadata": {
        "id": "uMLArkcSrJFU"
      },
      "source": [
        "from xgboost import XGBClassifier\n"
      ],
      "execution_count": 22,
      "outputs": []
    },
    {
      "cell_type": "code",
      "metadata": {
        "colab": {
          "base_uri": "https://localhost:8080/",
          "height": 282
        },
        "id": "TJcFOVVVrQ2I",
        "outputId": "1b67a053-558c-4796-d37e-54c8a0d45f2e"
      },
      "source": [
        "results_xgb =[] #to add accuracy results to\n",
        "\n",
        "max_estimator_options_xgb = [50, 100,150,200,250,300,350,400,450,500]\n",
        "for trees in max_estimator_options_xgb:\n",
        "  model_xgb = XGBClassifier(n_estimators=trees,random_state=101)\n",
        "  model_xgb.fit(x_train,y_train)\n",
        "  y_pred_xgb = model_xgb.predict(x_test)\n",
        "  accuracy_xgb = np.mean(y_test == y_pred_xgb)# calculating accuracy \n",
        "  results_xgb.append(accuracy_xgb)\n",
        "#plot the results\n",
        "\n",
        "plt.figure(figsize=(8,4))\n",
        "pd.Series(results_xgb, max_estimator_options_xgb).plot(color=\"darkred\",marker=\"o\")"
      ],
      "execution_count": 23,
      "outputs": [
        {
          "output_type": "execute_result",
          "data": {
            "text/plain": [
              "<matplotlib.axes._subplots.AxesSubplot at 0x7fe428140fd0>"
            ]
          },
          "metadata": {
            "tags": []
          },
          "execution_count": 23
        },
        {
          "output_type": "display_data",
          "data": {
            "image/png": "[encoded data removed]",
            "text/plain": [
              "<Figure size 576x288 with 1 Axes>"
            ]
          },
          "metadata": {
            "tags": [],
            "needs_background": "light"
          }
        }
      ]
    },
    {
      "cell_type": "markdown",
      "metadata": {
        "id": "nQtj4GZDSVH8"
      },
      "source": [
        "1. **Write your observations about the Classifier’s behavior with respect to the\n",
        "number of estimators**\n",
        "\n",
        "\n",
        "\n",
        "*  After it reaches the optimal value which is 150, it only gets worse\n",
        "\n",
        "\n",
        "2.  **Is there an optimal value of the estimator within the given range?**\n",
        "\n",
        "\n",
        "\n",
        "> yes, 150\n",
        "\n",
        "\n",
        "\n"
      ]
    },
    {
      "cell_type": "markdown",
      "metadata": {
        "id": "rNgT15lJs2Us"
      },
      "source": [
        "# **Compare Performance**"
      ]
    },
    {
      "cell_type": "code",
      "metadata": {
        "id": "6OYTThwvEuKA"
      },
      "source": [
        "from sklearn.metrics import accuracy_score\n",
        "from sklearn.metrics import roc_auc_score\n"
      ],
      "execution_count": 36,
      "outputs": []
    },
    {
      "cell_type": "code",
      "metadata": {
        "id": "59B_qPuxEnXL"
      },
      "source": [
        "random_forest_accuracy = accuracy_score(y_test, y_pred)\n",
        "ada_accuracy = accuracy_score(y_test, y_pred_ada)\n",
        "grad_accuracy = accuracy_score(y_test, y_pred_grad)\n",
        "xgb_accuracy = accuracy_score(y_test, y_pred_xgb)\n",
        "\n",
        "\n",
        "\n",
        "\n"
      ],
      "execution_count": 41,
      "outputs": []
    },
    {
      "cell_type": "code",
      "metadata": {
        "id": "kP2tThy1HoQY"
      },
      "source": [
        "random_forest_auc = roc_auc_score(y_test, y_pred)\n",
        "ada_auc = roc_auc_score(y_test, y_pred_ada)\n",
        "grad_auc = roc_auc_score(y_test, y_pred_grad)\n",
        "xgb_auc = roc_auc_score(y_test, y_pred_xgb)"
      ],
      "execution_count": 40,
      "outputs": []
    },
    {
      "cell_type": "code",
      "metadata": {
        "id": "w5YxM_rCs9RG"
      },
      "source": [
        "from sklearn.metrics import classification_report, plot_confusion_matrix, plot_roc_curve\n"
      ],
      "execution_count": 26,
      "outputs": []
    },
    {
      "cell_type": "code",
      "metadata": {
        "id": "DFhMcnS1I_yn"
      },
      "source": [
        "data = {'Random Forest': [random_forest_accuracy, random_forest_auc],'AdaBoost': [ada_accuracy,ada_auc],'Gradient Boost': [grad_accuracy, grad_auc],'XGB': [xgb_accuracy,xgb_auc]}"
      ],
      "execution_count": 46,
      "outputs": []
    },
    {
      "cell_type": "code",
      "metadata": {
        "id": "qLga8Kg9KIq7"
      },
      "source": [
        "performance_table = pd.DataFrame(data=data, index=['Accuracy', 'Auc'])"
      ],
      "execution_count": 49,
      "outputs": []
    },
    {
      "cell_type": "code",
      "metadata": {
        "colab": {
          "base_uri": "https://localhost:8080/",
          "height": 111
        },
        "id": "jzGkj99eKbCK",
        "outputId": "77d962b1-b589-4395-8971-bb8ab5d29104"
      },
      "source": [
        "performance_table"
      ],
      "execution_count": 50,
      "outputs": [
        {
          "output_type": "execute_result",
          "data": {
            "text/html": [
              "<div>\n",
              "<style scoped>\n",
              "    .dataframe tbody tr th:only-of-type {\n",
              "        vertical-align: middle;\n",
              "    }\n",
              "\n",
              "    .dataframe tbody tr th {\n",
              "        vertical-align: top;\n",
              "    }\n",
              "\n",
              "    .dataframe thead th {\n",
              "        text-align: right;\n",
              "    }\n",
              "</style>\n",
              "<table border=\"1\" class=\"dataframe\">\n",
              "  <thead>\n",
              "    <tr style=\"text-align: right;\">\n",
              "      <th></th>\n",
              "      <th>Random Forest</th>\n",
              "      <th>AdaBoost</th>\n",
              "      <th>Gradient Boost</th>\n",
              "      <th>XGB</th>\n",
              "    </tr>\n",
              "  </thead>\n",
              "  <tbody>\n",
              "    <tr>\n",
              "      <th>Accuracy</th>\n",
              "      <td>0.838401</td>\n",
              "      <td>0.845157</td>\n",
              "      <td>0.846570</td>\n",
              "      <td>0.846508</td>\n",
              "    </tr>\n",
              "    <tr>\n",
              "      <th>Auc</th>\n",
              "      <td>0.745687</td>\n",
              "      <td>0.746518</td>\n",
              "      <td>0.759117</td>\n",
              "      <td>0.758448</td>\n",
              "    </tr>\n",
              "  </tbody>\n",
              "</table>\n",
              "</div>"
            ],
            "text/plain": [
              "          Random Forest  AdaBoost  Gradient Boost       XGB\n",
              "Accuracy       0.838401  0.845157        0.846570  0.846508\n",
              "Auc            0.745687  0.746518        0.759117  0.758448"
            ]
          },
          "metadata": {
            "tags": []
          },
          "execution_count": 50
        }
      ]
    },
    {
      "cell_type": "code",
      "metadata": {
        "colab": {
          "base_uri": "https://localhost:8080/"
        },
        "id": "gL3dG_aALBzU",
        "outputId": "faac4a58-afa2-4692-9307-9d24c949eea1"
      },
      "source": [
        "print(f\"The common hyperparameters are n_estimators as {max_estimator_options} and random_state as {101} \")"
      ],
      "execution_count": 56,
      "outputs": [
        {
          "output_type": "stream",
          "text": [
            "The common hyperparameters are n_estimators as [50, 100, 150, 200, 250, 300, 350, 400, 450, 500] and random_state as 101 \n"
          ],
          "name": "stdout"
        }
      ]
    }
  ]
}